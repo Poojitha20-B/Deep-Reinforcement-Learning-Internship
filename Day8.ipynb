{
  "nbformat": 4,
  "nbformat_minor": 0,
  "metadata": {
    "colab": {
      "provenance": [],
      "authorship_tag": "ABX9TyP2CC3JXj4+HwoS8W2MMNG+",
      "include_colab_link": true
    },
    "kernelspec": {
      "name": "python3",
      "display_name": "Python 3"
    },
    "language_info": {
      "name": "python"
    }
  },
  "cells": [
    {
      "cell_type": "markdown",
      "metadata": {
        "id": "view-in-github",
        "colab_type": "text"
      },
      "source": [
        "<a href=\"https://colab.research.google.com/github/Poojitha20-B/Deep-Reinforcement-Learning-Internship/blob/main/Day8.ipynb\" target=\"_parent\"><img src=\"https://colab.research.google.com/assets/colab-badge.svg\" alt=\"Open In Colab\"/></a>"
      ]
    },
    {
      "cell_type": "code",
      "execution_count": 8,
      "metadata": {
        "id": "8yeH-vtNgdaI"
      },
      "outputs": [],
      "source": [
        "import numpy as np\n",
        "import tensorflow as tf\n",
        "from tensorflow.keras.models import Sequential\n",
        "from tensorflow.keras.layers import SimpleRNN, LSTM, GRU, Embedding, TimeDistributed, Dense\n",
        "from tensorflow.keras.utils import to_categorical\n",
        "import matplotlib.pyplot as plt"
      ]
    },
    {
      "cell_type": "code",
      "source": [
        "# Fix random seed for reproducibility\n",
        "np.random.seed(1)\n",
        "tf.random.set_seed(1)\n",
        "\n",
        "# Input word\n",
        "text = 'hello'\n",
        "chars = sorted(set(text))\n",
        "char2idx = {c: i for i, c in enumerate(chars)}\n",
        "idx2char = {i: c for c, i in char2idx.items()}\n",
        "vocab_size = len(chars)\n"
      ],
      "metadata": {
        "id": "EBK_GZ_ilkIk"
      },
      "execution_count": 9,
      "outputs": []
    },
    {
      "cell_type": "code",
      "source": [
        "# Create input and output sequences: \"hell\" -> \"ello\"\n",
        "X = [[char2idx[c] for c in text[:-1]]]\n",
        "Y = [[char2idx[c] for c in text[1:]]]\n",
        "X = np.array(X * 1000)  # repeat to create more samples\n",
        "Y = np.array(Y * 1000)\n",
        "Y_onehot = to_categorical(Y, num_classes=vocab_size)\n",
        "\n",
        "# Number of training epochs\n",
        "epochs = 100\n"
      ],
      "metadata": {
        "id": "mgmPEo4Blun1"
      },
      "execution_count": 18,
      "outputs": []
    },
    {
      "cell_type": "code",
      "source": [
        "# Function to build and train the model\n",
        "def train_seq_model(model_type):\n",
        "    model = Sequential()\n",
        "    model.add(Embedding(input_dim=vocab_size, output_dim=8, input_length=4))\n",
        "\n",
        "    if model_type == 'RNN':\n",
        "        model.add(SimpleRNN(16, return_sequences=True))\n",
        "    elif model_type == 'LSTM':\n",
        "        model.add(LSTM(16, return_sequences=True))\n",
        "    elif model_type == 'GRU':\n",
        "        model.add(GRU(16, return_sequences=True))\n",
        "\n",
        "    model.add(TimeDistributed(Dense(vocab_size, activation='softmax')))\n",
        "    model.compile(loss='categorical_crossentropy', optimizer='adam', metrics=['accuracy'])\n",
        "\n",
        "    history = model.fit(X, Y_onehot, epochs=epochs, batch_size=32, validation_split=0.2, verbose=0)\n",
        "    return model, history\n"
      ],
      "metadata": {
        "id": "pRddiYlYlyKI"
      },
      "execution_count": 19,
      "outputs": []
    },
    {
      "cell_type": "code",
      "source": [
        "# Train all 3 types\n",
        "models = {}\n",
        "histories = {}\n",
        "\n",
        "for m in ['RNN', 'LSTM', 'GRU']:\n",
        "    print(f\"Training {m}...\")\n",
        "    model, history = train_seq_model(m)\n",
        "    models[m] = model\n",
        "    histories[m] = history"
      ],
      "metadata": {
        "colab": {
          "base_uri": "https://localhost:8080/"
        },
        "id": "cBmR6dgNl12q",
        "outputId": "bbaf3c17-e496-480c-8027-5a49dee1318d"
      },
      "execution_count": 20,
      "outputs": [
        {
          "output_type": "stream",
          "name": "stdout",
          "text": [
            "Training RNN...\n",
            "Training LSTM...\n",
            "Training GRU...\n"
          ]
        }
      ]
    },
    {
      "cell_type": "code",
      "source": [
        "## Final evaluation\n",
        "print(\"\\nFinal Accuracy & Loss:\")\n",
        "for m in models:\n",
        "    loss, acc = models[m].evaluate(X, Y_onehot, verbose=0)\n",
        "    print(f\"{m}: Accuracy = {acc*100:.2f}%, Loss = {loss*100:.2f}%\")"
      ],
      "metadata": {
        "colab": {
          "base_uri": "https://localhost:8080/"
        },
        "id": "Wg2Y7njDl43k",
        "outputId": "6fedfb1c-aacc-4163-b715-ce2fe0bc905f"
      },
      "execution_count": 21,
      "outputs": [
        {
          "output_type": "stream",
          "name": "stdout",
          "text": [
            "\n",
            "Final Accuracy & Loss:\n",
            "RNN: Accuracy = 100.00%, Loss = 0.04%\n",
            "LSTM: Accuracy = 100.00%, Loss = 0.04%\n",
            "GRU: Accuracy = 100.00%, Loss = 0.03%\n"
          ]
        }
      ]
    },
    {
      "cell_type": "code",
      "source": [
        "plt.title('Final Validation Accuracy vs Loss')\n",
        "plt.xlabel('Validation Accuracy')\n",
        "plt.ylabel('Validation Loss')\n",
        "plt.grid(True)\n",
        "plt.legend()\n",
        "plt.tight_layout()\n",
        "plt.show()"
      ],
      "metadata": {
        "colab": {
          "base_uri": "https://localhost:8080/",
          "height": 541
        },
        "id": "STtxlse5yXte",
        "outputId": "ff511fba-434d-45f0-f795-afa1246d1a4f"
      },
      "execution_count": 24,
      "outputs": [
        {
          "output_type": "stream",
          "name": "stderr",
          "text": [
            "<ipython-input-24-1985422018>:5: UserWarning: No artists with labels found to put in legend.  Note that artists whose label start with an underscore are ignored when legend() is called with no argument.\n",
            "  plt.legend()\n"
          ]
        },
        {
          "output_type": "display_data",
          "data": {
            "text/plain": [
              "<Figure size 640x480 with 1 Axes>"
            ],
            "image/png": "[encoded data removed]"
          },
          "metadata": {}
        }
      ]
    },
    {
      "cell_type": "markdown",
      "source": [
        "Observation\n",
        "\n",
        "With 100 epochs, all models – RNN, LSTM and GRU – achieved 100% accuracy, meaning they learned the pattern completely. but when we look at the loss, GRU had the lowest (0.03%) while RNN and LSTM had slightly higher (0.04%). so even though accuracy is same, GRU is a bit more efficient and confident in its predictions, making it the best among the three in this case."
      ],
      "metadata": {
        "id": "Ds2M3FLqyK-2"
      }
    }
  ]
}