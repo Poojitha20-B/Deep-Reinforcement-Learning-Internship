{
  "nbformat": 4,
  "nbformat_minor": 0,
  "metadata": {
    "colab": {
      "provenance": [],
      "authorship_tag": "ABX9TyMR8UVPsWdSpBFLX2GqEpEI",
      "include_colab_link": true
    },
    "kernelspec": {
      "name": "python3",
      "display_name": "Python 3"
    },
    "language_info": {
      "name": "python"
    }
  },
  "cells": [
    {
      "cell_type": "markdown",
      "metadata": {
        "id": "view-in-github",
        "colab_type": "text"
      },
      "source": [
        "<a href=\"https://colab.research.google.com/github/Poojitha20-B/Deep-Reinforcement-Learning-Internship/blob/main/Day8.ipynb\" target=\"_parent\"><img src=\"https://colab.research.google.com/assets/colab-badge.svg\" alt=\"Open In Colab\"/></a>"
      ]
    },
    {
      "cell_type": "markdown",
      "source": [
        "RNN, LSTM, GRU"
      ],
      "metadata": {
        "id": "z1uWPEGSh7md"
      }
    },
    {
      "cell_type": "code",
      "execution_count": 2,
      "metadata": {
        "id": "8yeH-vtNgdaI"
      },
      "outputs": [],
      "source": [
        "import numpy as np\n",
        "import tensorflow as tf\n",
        "from tensorflow.keras.models import Sequential\n",
        "from tensorflow.keras.layers import SimpleRNN, LSTM, GRU, Embedding, TimeDistributed, Dense\n",
        "from tensorflow.keras.utils import to_categorical\n",
        "import matplotlib.pyplot as plt"
      ]
    },
    {
      "cell_type": "code",
      "source": [
        "# Fix random seed for reproducibility\n",
        "np.random.seed(1)\n",
        "tf.random.set_seed(1)\n",
        "\n",
        "# Input word\n",
        "text = 'hello'\n",
        "chars = sorted(set(text))\n",
        "char2idx = {c: i for i, c in enumerate(chars)}\n",
        "idx2char = {i: c for c, i in char2idx.items()}\n",
        "vocab_size = len(chars)\n"
      ],
      "metadata": {
        "id": "EBK_GZ_ilkIk"
      },
      "execution_count": 3,
      "outputs": []
    },
    {
      "cell_type": "code",
      "source": [
        "# Create input and output sequences: \"hell\" -> \"ello\"\n",
        "X = [[char2idx[c] for c in text[:-1]]]\n",
        "Y = [[char2idx[c] for c in text[1:]]]\n",
        "X = np.array(X * 1000)  # repeat to create more samples\n",
        "Y = np.array(Y * 1000)\n",
        "Y_onehot = to_categorical(Y, num_classes=vocab_size)\n",
        "\n",
        "# Number of training epochs\n",
        "epochs = 100\n"
      ],
      "metadata": {
        "id": "mgmPEo4Blun1"
      },
      "execution_count": 4,
      "outputs": []
    },
    {
      "cell_type": "code",
      "source": [
        "# Function to build and train the model\n",
        "def train_seq_model(model_type):\n",
        "    model = Sequential()\n",
        "    model.add(Embedding(input_dim=vocab_size, output_dim=8, input_length=4))\n",
        "\n",
        "    if model_type == 'RNN':\n",
        "        model.add(SimpleRNN(16, return_sequences=True))\n",
        "    elif model_type == 'LSTM':\n",
        "        model.add(LSTM(16, return_sequences=True))\n",
        "    elif model_type == 'GRU':\n",
        "        model.add(GRU(16, return_sequences=True))\n",
        "\n",
        "    model.add(TimeDistributed(Dense(vocab_size, activation='softmax')))\n",
        "    model.compile(loss='categorical_crossentropy', optimizer='adam', metrics=['accuracy'])\n",
        "\n",
        "    history = model.fit(X, Y_onehot, epochs=epochs, batch_size=32, validation_split=0.2, verbose=0)\n",
        "    return model, history\n"
      ],
      "metadata": {
        "id": "pRddiYlYlyKI"
      },
      "execution_count": 5,
      "outputs": []
    },
    {
      "cell_type": "code",
      "source": [
        "# Train all 3 types\n",
        "models = {}\n",
        "histories = {}\n",
        "\n",
        "for m in ['RNN', 'LSTM', 'GRU']:\n",
        "    print(f\"Training {m}...\")\n",
        "    model, history = train_seq_model(m)\n",
        "    models[m] = model\n",
        "    histories[m] = history"
      ],
      "metadata": {
        "colab": {
          "base_uri": "https://localhost:8080/"
        },
        "id": "cBmR6dgNl12q",
        "outputId": "238ecba1-2b75-4557-dc50-040be44188e2"
      },
      "execution_count": 6,
      "outputs": [
        {
          "output_type": "stream",
          "name": "stdout",
          "text": [
            "Training RNN...\n"
          ]
        },
        {
          "output_type": "stream",
          "name": "stderr",
          "text": [
            "/usr/local/lib/python3.11/dist-packages/keras/src/layers/core/embedding.py:90: UserWarning: Argument `input_length` is deprecated. Just remove it.\n",
            "  warnings.warn(\n"
          ]
        },
        {
          "output_type": "stream",
          "name": "stdout",
          "text": [
            "Training LSTM...\n",
            "Training GRU...\n"
          ]
        }
      ]
    },
    {
      "cell_type": "code",
      "source": [
        "## Final evaluation\n",
        "print(\"\\nFinal Accuracy & Loss:\")\n",
        "for m in models:\n",
        "    loss, acc = models[m].evaluate(X, Y_onehot, verbose=0)\n",
        "    print(f\"{m}: Accuracy = {acc*100:.2f}%, Loss = {loss*100:.2f}%\")"
      ],
      "metadata": {
        "colab": {
          "base_uri": "https://localhost:8080/"
        },
        "id": "Wg2Y7njDl43k",
        "outputId": "3476988e-24db-4089-ddba-080a5063886b"
      },
      "execution_count": 7,
      "outputs": [
        {
          "output_type": "stream",
          "name": "stdout",
          "text": [
            "\n",
            "Final Accuracy & Loss:\n",
            "RNN: Accuracy = 100.00%, Loss = 0.03%\n",
            "LSTM: Accuracy = 100.00%, Loss = 0.05%\n",
            "GRU: Accuracy = 100.00%, Loss = 0.03%\n"
          ]
        }
      ]
    },
    {
      "cell_type": "code",
      "source": [
        "# Plot accuracy\n",
        "plt.figure(figsize=(12, 4))\n",
        "for m in histories:\n",
        "    plt.plot(histories[m].history['val_accuracy'], label=f'{m} Val Accuracy')\n",
        "plt.title('Validation Accuracy Comparison')\n",
        "plt.xlabel('Epochs')\n",
        "plt.ylabel('Accuracy')\n",
        "plt.legend()\n",
        "plt.grid(True)\n",
        "plt.show()\n"
      ],
      "metadata": {
        "colab": {
          "base_uri": "https://localhost:8080/",
          "height": 410
        },
        "id": "STtxlse5yXte",
        "outputId": "504202f5-1d68-4bd0-9b97-5e77fbb8f5eb"
      },
      "execution_count": 8,
      "outputs": [
        {
          "output_type": "display_data",
          "data": {
            "text/plain": [
              "<Figure size 1200x400 with 1 Axes>"
            ],
            "image/png": "[encoded data removed]"
          },
          "metadata": {}
        }
      ]
    },
    {
      "cell_type": "markdown",
      "source": [
        "Observation\n",
        "\n",
        "With 100 epochs, all models – RNN, LSTM and GRU – achieved 100% accuracy, meaning they learned the pattern completely. but when we look at the loss, GRU had the lowest (0.03%) while RNN and LSTM had slightly higher (0.04%). so even though accuracy is same, GRU is a bit more efficient and confident in its predictions, making it the best among the three in this case."
      ],
      "metadata": {
        "id": "Ds2M3FLqyK-2"
      }
    }
  ]
}