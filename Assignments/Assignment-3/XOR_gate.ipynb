{
  "nbformat": 4,
  "nbformat_minor": 0,
  "metadata": {
    "colab": {
      "provenance": [],
      "authorship_tag": "ABX9TyNIzp5vokryMxrCzKHg4EKk",
      "include_colab_link": true
    },
    "kernelspec": {
      "name": "python3",
      "display_name": "Python 3"
    },
    "language_info": {
      "name": "python"
    }
  },
  "cells": [
    {
      "cell_type": "markdown",
      "metadata": {
        "id": "view-in-github",
        "colab_type": "text"
      },
      "source": [
        "<a href=\"https://colab.research.google.com/github/Poojitha20-B/Internship/blob/main/XOR_gate.ipynb\" target=\"_parent\"><img src=\"https://colab.research.google.com/assets/colab-badge.svg\" alt=\"Open In Colab\"/></a>"
      ]
    },
    {
      "cell_type": "code",
      "execution_count": 1,
      "metadata": {
        "id": "RpBituvzrlgF"
      },
      "outputs": [],
      "source": [
        "import numpy as np\n",
        "import matplotlib.pyplot as plt\n"
      ]
    },
    {
      "cell_type": "code",
      "source": [
        "# XOR input and labels\n",
        "X = np.array([[0,0],[0,1],[1,0],[1,1]])\n",
        "y = np.array([[0],[1],[1],[0]])\n"
      ],
      "metadata": {
        "id": "7M2HLcWxr92J"
      },
      "execution_count": 2,
      "outputs": []
    },
    {
      "cell_type": "code",
      "source": [
        "def sigmoid(x):\n",
        "    return 1 / (1 + np.exp(-x))\n",
        "\n",
        "def sigmoid_deriv(x):\n",
        "    return sigmoid(x) * (1 - sigmoid(x))\n"
      ],
      "metadata": {
        "id": "vVaaBSdtsHXU"
      },
      "execution_count": 14,
      "outputs": []
    },
    {
      "cell_type": "code",
      "source": [
        "np.random.seed(42)\n",
        "input_size = 2\n",
        "hidden_size = 4\n",
        "output_size = 1\n",
        "\n",
        "W1 = np.random.randn(input_size, hidden_size)\n",
        "b1 = np.zeros((1, hidden_size))\n",
        "W2 = np.random.randn(hidden_size, output_size)\n",
        "b2 = np.zeros((1, output_size))\n",
        "\n"
      ],
      "metadata": {
        "id": "Aa1JHqEJsKyP"
      },
      "execution_count": 13,
      "outputs": []
    },
    {
      "cell_type": "code",
      "source": [
        "lr = 0.1\n",
        "epochs = 10000\n",
        "\n",
        "for epoch in range(epochs):\n",
        "    # Forward pass\n",
        "    z1 = X @ W1 + b1\n",
        "    a1 = sigmoid(z1)\n",
        "    z2 = a1 @ W2 + b2\n",
        "    y_pred = sigmoid(z2)\n",
        "\n",
        "    # Loss (Binary Cross-Entropy)\n",
        "    loss = -np.mean(y * np.log(y_pred + 1e-8) + (1 - y) * np.log(1 - y_pred + 1e-8))\n",
        "\n",
        "    # Backward pass\n",
        "    dz2 = y_pred - y\n",
        "    dW2 = a1.T @ dz2\n",
        "    db2 = np.sum(dz2, axis=0, keepdims=True)\n",
        "\n",
        "    da1 = dz2 @ W2.T\n",
        "    dz1 = da1 * sigmoid_deriv(z1)\n",
        "    dW1 = X.T @ dz1\n",
        "    db1 = np.sum(dz1, axis=0, keepdims=True)\n",
        "\n",
        "    # Update weights\n",
        "    W2 -= lr * dW2\n",
        "    b2 -= lr * db2\n",
        "    W1 -= lr * dW1\n",
        "    b1 -= lr * db1\n",
        "\n",
        "    if epoch % 1000 == 0:\n",
        "        print(f\"Epoch {epoch} Loss: {loss:.4f}\")\n"
      ],
      "metadata": {
        "colab": {
          "base_uri": "https://localhost:8080/"
        },
        "id": "1_5FqiMqsa1e",
        "outputId": "d10daa6e-7676-4fb7-cc9b-b461131e7838"
      },
      "execution_count": 15,
      "outputs": [
        {
          "output_type": "stream",
          "name": "stdout",
          "text": [
            "Epoch 0 Loss: 0.7628\n",
            "Epoch 1000 Loss: 0.2152\n",
            "Epoch 2000 Loss: 0.0245\n",
            "Epoch 3000 Loss: 0.0101\n",
            "Epoch 4000 Loss: 0.0059\n",
            "Epoch 5000 Loss: 0.0040\n",
            "Epoch 6000 Loss: 0.0030\n",
            "Epoch 7000 Loss: 0.0024\n",
            "Epoch 8000 Loss: 0.0020\n",
            "Epoch 9000 Loss: 0.0017\n"
          ]
        }
      ]
    },
    {
      "cell_type": "code",
      "source": [
        "print(\"\\nPredictions after training:\")\n",
        "print(np.round(y_pred))\n"
      ],
      "metadata": {
        "colab": {
          "base_uri": "https://localhost:8080/"
        },
        "id": "Wa6UtCz-sh1g",
        "outputId": "ee62fa6b-c7ad-43c7-95fc-9f968122936a"
      },
      "execution_count": 17,
      "outputs": [
        {
          "output_type": "stream",
          "name": "stdout",
          "text": [
            "\n",
            "Predictions after training:\n",
            "[[0.]\n",
            " [1.]\n",
            " [1.]\n",
            " [0.]]\n"
          ]
        }
      ]
    },
    {
      "cell_type": "code",
      "source": [
        "# Meshgrid for plotting\n",
        "xx, yy = np.meshgrid(np.linspace(0,1,100), np.linspace(0,1,100))\n",
        "grid = np.c_[xx.ravel(), yy.ravel()]\n",
        "z1_grid = grid @ W1 + b1\n",
        "a1_grid = sigmoid(z1_grid)\n",
        "z2_grid = a1_grid @ W2 + b2\n",
        "preds = sigmoid(z2_grid).reshape(xx.shape)\n",
        "\n",
        "# Plot\n",
        "plt.contourf(xx, yy, preds, levels=[0, 0.5, 1], cmap='bwr', alpha=0.6)\n",
        "plt.scatter(X[:,0], X[:,1], c=y.ravel(), edgecolors='k', cmap='bwr')\n",
        "plt.title(\"Decision Boundary of MLP for XOR\")\n",
        "plt.xlabel(\"Input 1\")\n",
        "plt.ylabel(\"Input 2\")\n",
        "plt.show()"
      ],
      "metadata": {
        "colab": {
          "base_uri": "https://localhost:8080/",
          "height": 472
        },
        "id": "J3mCxMYPtHMz",
        "outputId": "f9005237-eefb-4f84-ceb8-ca2448c46476"
      },
      "execution_count": 18,
      "outputs": [
        {
          "output_type": "display_data",
          "data": {
            "text/plain": [
              "<Figure size 640x480 with 1 Axes>"
            ],
            "image/png": "[encoded data removed]"
          },
          "metadata": {}
        }
      ]
    }
  ]
}